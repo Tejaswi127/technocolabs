{
 "cells": [
  {
   "cell_type": "code",
   "execution_count": 1,
   "id": "9cb95094",
   "metadata": {},
   "outputs": [],
   "source": [
    "import numpy as np\n",
    "import pandas as pd\n",
    "import matplotlib.pyplot as plt\n",
    "import seaborn as sns\n",
    "%matplotlib inline\n",
    "\n"
   ]
  },
  {
   "cell_type": "code",
   "execution_count": 8,
   "id": "8a07b795",
   "metadata": {},
   "outputs": [],
   "source": [
    "data = pd.read_csv(\"prosperLoanData.csv\")\n",
    "df=pd.DataFrame(data)"
   ]
  },
  {
   "cell_type": "code",
   "execution_count": 9,
   "id": "b0999b7b",
   "metadata": {},
   "outputs": [
    {
     "name": "stdout",
     "output_type": "stream",
     "text": [
      "<class 'pandas.core.frame.DataFrame'>\n",
      "RangeIndex: 113937 entries, 0 to 113936\n",
      "Data columns (total 81 columns):\n",
      " #   Column                               Non-Null Count   Dtype  \n",
      "---  ------                               --------------   -----  \n",
      " 0   ListingKey                           113937 non-null  object \n",
      " 1   ListingNumber                        113937 non-null  int64  \n",
      " 2   ListingCreationDate                  113937 non-null  object \n",
      " 3   CreditGrade                          28953 non-null   object \n",
      " 4   Term                                 113937 non-null  int64  \n",
      " 5   LoanStatus                           113937 non-null  object \n",
      " 6   ClosedDate                           55089 non-null   object \n",
      " 7   BorrowerAPR                          113912 non-null  float64\n",
      " 8   BorrowerRate                         113937 non-null  float64\n",
      " 9   LenderYield                          113937 non-null  float64\n",
      " 10  EstimatedEffectiveYield              84853 non-null   float64\n",
      " 11  EstimatedLoss                        84853 non-null   float64\n",
      " 12  EstimatedReturn                      84853 non-null   float64\n",
      " 13  ProsperRating (numeric)              84853 non-null   float64\n",
      " 14  ProsperRating (Alpha)                84853 non-null   object \n",
      " 15  ProsperScore                         84853 non-null   float64\n",
      " 16  ListingCategory (numeric)            113937 non-null  int64  \n",
      " 17  BorrowerState                        108422 non-null  object \n",
      " 18  Occupation                           110349 non-null  object \n",
      " 19  EmploymentStatus                     111682 non-null  object \n",
      " 20  EmploymentStatusDuration             106312 non-null  float64\n",
      " 21  IsBorrowerHomeowner                  113937 non-null  bool   \n",
      " 22  CurrentlyInGroup                     113937 non-null  bool   \n",
      " 23  GroupKey                             13341 non-null   object \n",
      " 24  DateCreditPulled                     113937 non-null  object \n",
      " 25  CreditScoreRangeLower                113346 non-null  float64\n",
      " 26  CreditScoreRangeUpper                113346 non-null  float64\n",
      " 27  FirstRecordedCreditLine              113240 non-null  object \n",
      " 28  CurrentCreditLines                   106333 non-null  float64\n",
      " 29  OpenCreditLines                      106333 non-null  float64\n",
      " 30  TotalCreditLinespast7years           113240 non-null  float64\n",
      " 31  OpenRevolvingAccounts                113937 non-null  int64  \n",
      " 32  OpenRevolvingMonthlyPayment          113937 non-null  float64\n",
      " 33  InquiriesLast6Months                 113240 non-null  float64\n",
      " 34  TotalInquiries                       112778 non-null  float64\n",
      " 35  CurrentDelinquencies                 113240 non-null  float64\n",
      " 36  AmountDelinquent                     106315 non-null  float64\n",
      " 37  DelinquenciesLast7Years              112947 non-null  float64\n",
      " 38  PublicRecordsLast10Years             113240 non-null  float64\n",
      " 39  PublicRecordsLast12Months            106333 non-null  float64\n",
      " 40  RevolvingCreditBalance               106333 non-null  float64\n",
      " 41  BankcardUtilization                  106333 non-null  float64\n",
      " 42  AvailableBankcardCredit              106393 non-null  float64\n",
      " 43  TotalTrades                          106393 non-null  float64\n",
      " 44  TradesNeverDelinquent (percentage)   106393 non-null  float64\n",
      " 45  TradesOpenedLast6Months              106393 non-null  float64\n",
      " 46  DebtToIncomeRatio                    105383 non-null  float64\n",
      " 47  IncomeRange                          113937 non-null  object \n",
      " 48  IncomeVerifiable                     113937 non-null  bool   \n",
      " 49  StatedMonthlyIncome                  113937 non-null  float64\n",
      " 50  LoanKey                              113937 non-null  object \n",
      " 51  TotalProsperLoans                    22085 non-null   float64\n",
      " 52  TotalProsperPaymentsBilled           22085 non-null   float64\n",
      " 53  OnTimeProsperPayments                22085 non-null   float64\n",
      " 54  ProsperPaymentsLessThanOneMonthLate  22085 non-null   float64\n",
      " 55  ProsperPaymentsOneMonthPlusLate      22085 non-null   float64\n",
      " 56  ProsperPrincipalBorrowed             22085 non-null   float64\n",
      " 57  ProsperPrincipalOutstanding          22085 non-null   float64\n",
      " 58  ScorexChangeAtTimeOfListing          18928 non-null   float64\n",
      " 59  LoanCurrentDaysDelinquent            113937 non-null  int64  \n",
      " 60  LoanFirstDefaultedCycleNumber        16952 non-null   float64\n",
      " 61  LoanMonthsSinceOrigination           113937 non-null  int64  \n",
      " 62  LoanNumber                           113937 non-null  int64  \n",
      " 63  LoanOriginalAmount                   113937 non-null  int64  \n",
      " 64  LoanOriginationDate                  113937 non-null  object \n",
      " 65  LoanOriginationQuarter               113937 non-null  object \n",
      " 66  MemberKey                            113937 non-null  object \n",
      " 67  MonthlyLoanPayment                   113937 non-null  float64\n",
      " 68  LP_CustomerPayments                  113937 non-null  float64\n",
      " 69  LP_CustomerPrincipalPayments         113937 non-null  float64\n",
      " 70  LP_InterestandFees                   113937 non-null  float64\n",
      " 71  LP_ServiceFees                       113937 non-null  float64\n",
      " 72  LP_CollectionFees                    113937 non-null  float64\n",
      " 73  LP_GrossPrincipalLoss                113937 non-null  float64\n",
      " 74  LP_NetPrincipalLoss                  113937 non-null  float64\n",
      " 75  LP_NonPrincipalRecoverypayments      113937 non-null  float64\n",
      " 76  PercentFunded                        113937 non-null  float64\n",
      " 77  Recommendations                      113937 non-null  int64  \n",
      " 78  InvestmentFromFriendsCount           113937 non-null  int64  \n",
      " 79  InvestmentFromFriendsAmount          113937 non-null  float64\n",
      " 80  Investors                            113937 non-null  int64  \n",
      "dtypes: bool(3), float64(50), int64(11), object(17)\n",
      "memory usage: 68.1+ MB\n"
     ]
    }
   ],
   "source": [
    "df.info()"
   ]
  },
  {
   "cell_type": "code",
   "execution_count": 10,
   "id": "29d0a3bb",
   "metadata": {},
   "outputs": [
    {
     "data": {
      "text/plain": [
       "(113937, 81)"
      ]
     },
     "execution_count": 10,
     "metadata": {},
     "output_type": "execute_result"
    }
   ],
   "source": [
    "df.shape"
   ]
  },
  {
   "cell_type": "code",
   "execution_count": 11,
   "id": "1836251c",
   "metadata": {},
   "outputs": [
    {
     "data": {
      "text/plain": [
       "ListingKey                         0\n",
       "ListingNumber                      0\n",
       "ListingCreationDate                0\n",
       "CreditGrade                    84984\n",
       "Term                               0\n",
       "                               ...  \n",
       "PercentFunded                      0\n",
       "Recommendations                    0\n",
       "InvestmentFromFriendsCount         0\n",
       "InvestmentFromFriendsAmount        0\n",
       "Investors                          0\n",
       "Length: 81, dtype: int64"
      ]
     },
     "execution_count": 11,
     "metadata": {},
     "output_type": "execute_result"
    }
   ],
   "source": [
    "df.isnull().sum()"
   ]
  },
  {
   "cell_type": "code",
   "execution_count": 12,
   "id": "5200dab3",
   "metadata": {
    "scrolled": true
   },
   "outputs": [
    {
     "data": {
      "text/html": [
       "<div>\n",
       "<style scoped>\n",
       "    .dataframe tbody tr th:only-of-type {\n",
       "        vertical-align: middle;\n",
       "    }\n",
       "\n",
       "    .dataframe tbody tr th {\n",
       "        vertical-align: top;\n",
       "    }\n",
       "\n",
       "    .dataframe thead th {\n",
       "        text-align: right;\n",
       "    }\n",
       "</style>\n",
       "<table border=\"1\" class=\"dataframe\">\n",
       "  <thead>\n",
       "    <tr style=\"text-align: right;\">\n",
       "      <th></th>\n",
       "      <th>ListingNumber</th>\n",
       "      <th>Term</th>\n",
       "      <th>BorrowerAPR</th>\n",
       "      <th>BorrowerRate</th>\n",
       "      <th>LenderYield</th>\n",
       "      <th>EstimatedEffectiveYield</th>\n",
       "      <th>EstimatedLoss</th>\n",
       "      <th>EstimatedReturn</th>\n",
       "      <th>ProsperRating (numeric)</th>\n",
       "      <th>ProsperScore</th>\n",
       "      <th>...</th>\n",
       "      <th>LP_ServiceFees</th>\n",
       "      <th>LP_CollectionFees</th>\n",
       "      <th>LP_GrossPrincipalLoss</th>\n",
       "      <th>LP_NetPrincipalLoss</th>\n",
       "      <th>LP_NonPrincipalRecoverypayments</th>\n",
       "      <th>PercentFunded</th>\n",
       "      <th>Recommendations</th>\n",
       "      <th>InvestmentFromFriendsCount</th>\n",
       "      <th>InvestmentFromFriendsAmount</th>\n",
       "      <th>Investors</th>\n",
       "    </tr>\n",
       "  </thead>\n",
       "  <tbody>\n",
       "    <tr>\n",
       "      <th>count</th>\n",
       "      <td>1.139370e+05</td>\n",
       "      <td>113937.000000</td>\n",
       "      <td>113912.000000</td>\n",
       "      <td>113937.000000</td>\n",
       "      <td>113937.000000</td>\n",
       "      <td>84853.000000</td>\n",
       "      <td>84853.000000</td>\n",
       "      <td>84853.000000</td>\n",
       "      <td>84853.000000</td>\n",
       "      <td>84853.000000</td>\n",
       "      <td>...</td>\n",
       "      <td>113937.000000</td>\n",
       "      <td>113937.000000</td>\n",
       "      <td>113937.000000</td>\n",
       "      <td>113937.000000</td>\n",
       "      <td>113937.000000</td>\n",
       "      <td>113937.000000</td>\n",
       "      <td>113937.000000</td>\n",
       "      <td>113937.000000</td>\n",
       "      <td>113937.000000</td>\n",
       "      <td>113937.000000</td>\n",
       "    </tr>\n",
       "    <tr>\n",
       "      <th>mean</th>\n",
       "      <td>6.278857e+05</td>\n",
       "      <td>40.830248</td>\n",
       "      <td>0.218828</td>\n",
       "      <td>0.192764</td>\n",
       "      <td>0.182701</td>\n",
       "      <td>0.168661</td>\n",
       "      <td>0.080306</td>\n",
       "      <td>0.096068</td>\n",
       "      <td>4.072243</td>\n",
       "      <td>5.950067</td>\n",
       "      <td>...</td>\n",
       "      <td>-54.725641</td>\n",
       "      <td>-14.242698</td>\n",
       "      <td>700.446342</td>\n",
       "      <td>681.420499</td>\n",
       "      <td>25.142686</td>\n",
       "      <td>0.998584</td>\n",
       "      <td>0.048027</td>\n",
       "      <td>0.023460</td>\n",
       "      <td>16.550751</td>\n",
       "      <td>80.475228</td>\n",
       "    </tr>\n",
       "    <tr>\n",
       "      <th>std</th>\n",
       "      <td>3.280762e+05</td>\n",
       "      <td>10.436212</td>\n",
       "      <td>0.080364</td>\n",
       "      <td>0.074818</td>\n",
       "      <td>0.074516</td>\n",
       "      <td>0.068467</td>\n",
       "      <td>0.046764</td>\n",
       "      <td>0.030403</td>\n",
       "      <td>1.673227</td>\n",
       "      <td>2.376501</td>\n",
       "      <td>...</td>\n",
       "      <td>60.675425</td>\n",
       "      <td>109.232758</td>\n",
       "      <td>2388.513831</td>\n",
       "      <td>2357.167068</td>\n",
       "      <td>275.657937</td>\n",
       "      <td>0.017919</td>\n",
       "      <td>0.332353</td>\n",
       "      <td>0.232412</td>\n",
       "      <td>294.545422</td>\n",
       "      <td>103.239020</td>\n",
       "    </tr>\n",
       "    <tr>\n",
       "      <th>min</th>\n",
       "      <td>4.000000e+00</td>\n",
       "      <td>12.000000</td>\n",
       "      <td>0.006530</td>\n",
       "      <td>0.000000</td>\n",
       "      <td>-0.010000</td>\n",
       "      <td>-0.182700</td>\n",
       "      <td>0.004900</td>\n",
       "      <td>-0.182700</td>\n",
       "      <td>1.000000</td>\n",
       "      <td>1.000000</td>\n",
       "      <td>...</td>\n",
       "      <td>-664.870000</td>\n",
       "      <td>-9274.750000</td>\n",
       "      <td>-94.200000</td>\n",
       "      <td>-954.550000</td>\n",
       "      <td>0.000000</td>\n",
       "      <td>0.700000</td>\n",
       "      <td>0.000000</td>\n",
       "      <td>0.000000</td>\n",
       "      <td>0.000000</td>\n",
       "      <td>1.000000</td>\n",
       "    </tr>\n",
       "    <tr>\n",
       "      <th>25%</th>\n",
       "      <td>4.009190e+05</td>\n",
       "      <td>36.000000</td>\n",
       "      <td>0.156290</td>\n",
       "      <td>0.134000</td>\n",
       "      <td>0.124200</td>\n",
       "      <td>0.115670</td>\n",
       "      <td>0.042400</td>\n",
       "      <td>0.074080</td>\n",
       "      <td>3.000000</td>\n",
       "      <td>4.000000</td>\n",
       "      <td>...</td>\n",
       "      <td>-73.180000</td>\n",
       "      <td>0.000000</td>\n",
       "      <td>0.000000</td>\n",
       "      <td>0.000000</td>\n",
       "      <td>0.000000</td>\n",
       "      <td>1.000000</td>\n",
       "      <td>0.000000</td>\n",
       "      <td>0.000000</td>\n",
       "      <td>0.000000</td>\n",
       "      <td>2.000000</td>\n",
       "    </tr>\n",
       "    <tr>\n",
       "      <th>50%</th>\n",
       "      <td>6.005540e+05</td>\n",
       "      <td>36.000000</td>\n",
       "      <td>0.209760</td>\n",
       "      <td>0.184000</td>\n",
       "      <td>0.173000</td>\n",
       "      <td>0.161500</td>\n",
       "      <td>0.072400</td>\n",
       "      <td>0.091700</td>\n",
       "      <td>4.000000</td>\n",
       "      <td>6.000000</td>\n",
       "      <td>...</td>\n",
       "      <td>-34.440000</td>\n",
       "      <td>0.000000</td>\n",
       "      <td>0.000000</td>\n",
       "      <td>0.000000</td>\n",
       "      <td>0.000000</td>\n",
       "      <td>1.000000</td>\n",
       "      <td>0.000000</td>\n",
       "      <td>0.000000</td>\n",
       "      <td>0.000000</td>\n",
       "      <td>44.000000</td>\n",
       "    </tr>\n",
       "    <tr>\n",
       "      <th>75%</th>\n",
       "      <td>8.926340e+05</td>\n",
       "      <td>36.000000</td>\n",
       "      <td>0.283810</td>\n",
       "      <td>0.250000</td>\n",
       "      <td>0.240000</td>\n",
       "      <td>0.224300</td>\n",
       "      <td>0.112000</td>\n",
       "      <td>0.116600</td>\n",
       "      <td>5.000000</td>\n",
       "      <td>8.000000</td>\n",
       "      <td>...</td>\n",
       "      <td>-13.920000</td>\n",
       "      <td>0.000000</td>\n",
       "      <td>0.000000</td>\n",
       "      <td>0.000000</td>\n",
       "      <td>0.000000</td>\n",
       "      <td>1.000000</td>\n",
       "      <td>0.000000</td>\n",
       "      <td>0.000000</td>\n",
       "      <td>0.000000</td>\n",
       "      <td>115.000000</td>\n",
       "    </tr>\n",
       "    <tr>\n",
       "      <th>max</th>\n",
       "      <td>1.255725e+06</td>\n",
       "      <td>60.000000</td>\n",
       "      <td>0.512290</td>\n",
       "      <td>0.497500</td>\n",
       "      <td>0.492500</td>\n",
       "      <td>0.319900</td>\n",
       "      <td>0.366000</td>\n",
       "      <td>0.283700</td>\n",
       "      <td>7.000000</td>\n",
       "      <td>11.000000</td>\n",
       "      <td>...</td>\n",
       "      <td>32.060000</td>\n",
       "      <td>0.000000</td>\n",
       "      <td>25000.000000</td>\n",
       "      <td>25000.000000</td>\n",
       "      <td>21117.900000</td>\n",
       "      <td>1.012500</td>\n",
       "      <td>39.000000</td>\n",
       "      <td>33.000000</td>\n",
       "      <td>25000.000000</td>\n",
       "      <td>1189.000000</td>\n",
       "    </tr>\n",
       "  </tbody>\n",
       "</table>\n",
       "<p>8 rows × 61 columns</p>\n",
       "</div>"
      ],
      "text/plain": [
       "       ListingNumber           Term    BorrowerAPR   BorrowerRate  \\\n",
       "count   1.139370e+05  113937.000000  113912.000000  113937.000000   \n",
       "mean    6.278857e+05      40.830248       0.218828       0.192764   \n",
       "std     3.280762e+05      10.436212       0.080364       0.074818   \n",
       "min     4.000000e+00      12.000000       0.006530       0.000000   \n",
       "25%     4.009190e+05      36.000000       0.156290       0.134000   \n",
       "50%     6.005540e+05      36.000000       0.209760       0.184000   \n",
       "75%     8.926340e+05      36.000000       0.283810       0.250000   \n",
       "max     1.255725e+06      60.000000       0.512290       0.497500   \n",
       "\n",
       "         LenderYield  EstimatedEffectiveYield  EstimatedLoss  EstimatedReturn  \\\n",
       "count  113937.000000             84853.000000   84853.000000     84853.000000   \n",
       "mean        0.182701                 0.168661       0.080306         0.096068   \n",
       "std         0.074516                 0.068467       0.046764         0.030403   \n",
       "min        -0.010000                -0.182700       0.004900        -0.182700   \n",
       "25%         0.124200                 0.115670       0.042400         0.074080   \n",
       "50%         0.173000                 0.161500       0.072400         0.091700   \n",
       "75%         0.240000                 0.224300       0.112000         0.116600   \n",
       "max         0.492500                 0.319900       0.366000         0.283700   \n",
       "\n",
       "       ProsperRating (numeric)  ProsperScore  ...  LP_ServiceFees  \\\n",
       "count             84853.000000  84853.000000  ...   113937.000000   \n",
       "mean                  4.072243      5.950067  ...      -54.725641   \n",
       "std                   1.673227      2.376501  ...       60.675425   \n",
       "min                   1.000000      1.000000  ...     -664.870000   \n",
       "25%                   3.000000      4.000000  ...      -73.180000   \n",
       "50%                   4.000000      6.000000  ...      -34.440000   \n",
       "75%                   5.000000      8.000000  ...      -13.920000   \n",
       "max                   7.000000     11.000000  ...       32.060000   \n",
       "\n",
       "       LP_CollectionFees  LP_GrossPrincipalLoss  LP_NetPrincipalLoss  \\\n",
       "count      113937.000000          113937.000000        113937.000000   \n",
       "mean          -14.242698             700.446342           681.420499   \n",
       "std           109.232758            2388.513831          2357.167068   \n",
       "min         -9274.750000             -94.200000          -954.550000   \n",
       "25%             0.000000               0.000000             0.000000   \n",
       "50%             0.000000               0.000000             0.000000   \n",
       "75%             0.000000               0.000000             0.000000   \n",
       "max             0.000000           25000.000000         25000.000000   \n",
       "\n",
       "       LP_NonPrincipalRecoverypayments  PercentFunded  Recommendations  \\\n",
       "count                    113937.000000  113937.000000    113937.000000   \n",
       "mean                         25.142686       0.998584         0.048027   \n",
       "std                         275.657937       0.017919         0.332353   \n",
       "min                           0.000000       0.700000         0.000000   \n",
       "25%                           0.000000       1.000000         0.000000   \n",
       "50%                           0.000000       1.000000         0.000000   \n",
       "75%                           0.000000       1.000000         0.000000   \n",
       "max                       21117.900000       1.012500        39.000000   \n",
       "\n",
       "       InvestmentFromFriendsCount  InvestmentFromFriendsAmount      Investors  \n",
       "count               113937.000000                113937.000000  113937.000000  \n",
       "mean                     0.023460                    16.550751      80.475228  \n",
       "std                      0.232412                   294.545422     103.239020  \n",
       "min                      0.000000                     0.000000       1.000000  \n",
       "25%                      0.000000                     0.000000       2.000000  \n",
       "50%                      0.000000                     0.000000      44.000000  \n",
       "75%                      0.000000                     0.000000     115.000000  \n",
       "max                     33.000000                 25000.000000    1189.000000  \n",
       "\n",
       "[8 rows x 61 columns]"
      ]
     },
     "execution_count": 12,
     "metadata": {},
     "output_type": "execute_result"
    }
   ],
   "source": [
    "df.describe()"
   ]
  },
  {
   "cell_type": "markdown",
   "id": "cd7af143",
   "metadata": {},
   "source": [
    "# OUTLIERS"
   ]
  },
  {
   "cell_type": "code",
   "execution_count": 15,
   "id": "a396482c",
   "metadata": {},
   "outputs": [],
   "source": [
    "#sns.distplot(df['CreditGrade'])\n",
    "#as it is categorical data we cannot find outliers"
   ]
  },
  {
   "cell_type": "code",
   "execution_count": 16,
   "id": "b93fc5b9",
   "metadata": {},
   "outputs": [
    {
     "data": {
      "text/plain": [
       "<AxesSubplot:xlabel='ProsperPrincipalBorrowed', ylabel='Density'>"
      ]
     },
     "execution_count": 16,
     "metadata": {},
     "output_type": "execute_result"
    },
    {
     "data": {
      "image/png": "[encoded data removed]",
      "text/plain": [
       "<Figure size 432x288 with 1 Axes>"
      ]
     },
     "metadata": {
      "needs_background": "light"
     },
     "output_type": "display_data"
    }
   ],
   "source": [
    "sns.distplot(df['ProsperPrincipalBorrowed'])"
   ]
  },
  {
   "cell_type": "code",
   "execution_count": 17,
   "id": "111aed3c",
   "metadata": {},
   "outputs": [
    {
     "name": "stderr",
     "output_type": "stream",
     "text": [
      "C:\\Users\\dell\\New folder\\lib\\site-packages\\seaborn\\distributions.py:2619: FutureWarning: `distplot` is a deprecated function and will be removed in a future version. Please adapt your code to use either `displot` (a figure-level function with similar flexibility) or `histplot` (an axes-level function for histograms).\n",
      "  warnings.warn(msg, FutureWarning)\n"
     ]
    },
    {
     "data": {
      "text/plain": [
       "<AxesSubplot:xlabel='PercentFunded', ylabel='Density'>"
      ]
     },
     "execution_count": 17,
     "metadata": {},
     "output_type": "execute_result"
    },
    {
     "data": {
      "image/png": "[encoded data removed]",
      "text/plain": [
       "<Figure size 432x288 with 1 Axes>"
      ]
     },
     "metadata": {
      "needs_background": "light"
     },
     "output_type": "display_data"
    }
   ],
   "source": [
    "sns.distplot(df['PercentFunded'])"
   ]
  },
  {
   "cell_type": "code",
   "execution_count": 18,
   "id": "79c84737",
   "metadata": {},
   "outputs": [
    {
     "name": "stderr",
     "output_type": "stream",
     "text": [
      "C:\\Users\\dell\\New folder\\lib\\site-packages\\seaborn\\distributions.py:2619: FutureWarning: `distplot` is a deprecated function and will be removed in a future version. Please adapt your code to use either `displot` (a figure-level function with similar flexibility) or `histplot` (an axes-level function for histograms).\n",
      "  warnings.warn(msg, FutureWarning)\n"
     ]
    },
    {
     "data": {
      "text/plain": [
       "<AxesSubplot:xlabel='EstimatedLoss', ylabel='Density'>"
      ]
     },
     "execution_count": 18,
     "metadata": {},
     "output_type": "execute_result"
    },
    {
     "data": {
      "image/png": "[encoded data removed]",
      "text/plain": [
       "<Figure size 432x288 with 1 Axes>"
      ]
     },
     "metadata": {
      "needs_background": "light"
     },
     "output_type": "display_data"
    }
   ],
   "source": [
    "sns.distplot(df['EstimatedLoss'])"
   ]
  },
  {
   "cell_type": "code",
   "execution_count": 19,
   "id": "9a88dd3d",
   "metadata": {},
   "outputs": [
    {
     "data": {
      "text/plain": [
       "<AxesSubplot:ylabel='TotalProsperLoans'>"
      ]
     },
     "execution_count": 19,
     "metadata": {},
     "output_type": "execute_result"
    },
    {
     "data": {
      "image/png": "[encoded data removed]",
      "text/plain": [
       "<Figure size 432x288 with 1 Axes>"
      ]
     },
     "metadata": {
      "needs_background": "light"
     },
     "output_type": "display_data"
    }
   ],
   "source": [
    "sns.boxplot(y='TotalProsperLoans',data=df)"
   ]
  },
  {
   "cell_type": "code",
   "execution_count": 20,
   "id": "ae085950",
   "metadata": {},
   "outputs": [],
   "source": [
    "df1=df.copy()"
   ]
  },
  {
   "cell_type": "code",
   "execution_count": 22,
   "id": "63942c8d",
   "metadata": {},
   "outputs": [],
   "source": [
    "df1.drop(['ListingCreationDate','LoanOriginationDate','GroupKey','CreditGrade','ProsperPrincipalBorrowed','ProsperPrincipalOutstanding','EstimatedEffectiveYield','EstimatedLoss','EstimatedReturn','ProsperRating (numeric)',\n",
    "        'TotalProsperLoans','TotalProsperPaymentsBilled','OnTimeProsperPayments','ProsperPaymentsLessThanOneMonthLate','ProsperPaymentsOneMonthPlusLate','ListingKey'], axis =1, inplace = True)\n",
    "\n"
   ]
  },
  {
   "cell_type": "code",
   "execution_count": 24,
   "id": "41eb8315",
   "metadata": {},
   "outputs": [
    {
     "data": {
      "text/html": [
       "<div>\n",
       "<style scoped>\n",
       "    .dataframe tbody tr th:only-of-type {\n",
       "        vertical-align: middle;\n",
       "    }\n",
       "\n",
       "    .dataframe tbody tr th {\n",
       "        vertical-align: top;\n",
       "    }\n",
       "\n",
       "    .dataframe thead th {\n",
       "        text-align: right;\n",
       "    }\n",
       "</style>\n",
       "<table border=\"1\" class=\"dataframe\">\n",
       "  <thead>\n",
       "    <tr style=\"text-align: right;\">\n",
       "      <th></th>\n",
       "      <th>ListingNumber</th>\n",
       "      <th>Term</th>\n",
       "      <th>LoanStatus</th>\n",
       "      <th>ClosedDate</th>\n",
       "      <th>BorrowerAPR</th>\n",
       "      <th>BorrowerRate</th>\n",
       "      <th>LenderYield</th>\n",
       "      <th>ProsperRating (Alpha)</th>\n",
       "      <th>ProsperScore</th>\n",
       "      <th>ListingCategory (numeric)</th>\n",
       "      <th>...</th>\n",
       "      <th>LP_ServiceFees</th>\n",
       "      <th>LP_CollectionFees</th>\n",
       "      <th>LP_GrossPrincipalLoss</th>\n",
       "      <th>LP_NetPrincipalLoss</th>\n",
       "      <th>LP_NonPrincipalRecoverypayments</th>\n",
       "      <th>PercentFunded</th>\n",
       "      <th>Recommendations</th>\n",
       "      <th>InvestmentFromFriendsCount</th>\n",
       "      <th>InvestmentFromFriendsAmount</th>\n",
       "      <th>Investors</th>\n",
       "    </tr>\n",
       "  </thead>\n",
       "  <tbody>\n",
       "    <tr>\n",
       "      <th>0</th>\n",
       "      <td>193129</td>\n",
       "      <td>36</td>\n",
       "      <td>Completed</td>\n",
       "      <td>2009-08-14 00:00:00</td>\n",
       "      <td>0.16516</td>\n",
       "      <td>0.1580</td>\n",
       "      <td>0.1380</td>\n",
       "      <td>NaN</td>\n",
       "      <td>NaN</td>\n",
       "      <td>0</td>\n",
       "      <td>...</td>\n",
       "      <td>-133.18</td>\n",
       "      <td>0.0</td>\n",
       "      <td>0.0</td>\n",
       "      <td>0.0</td>\n",
       "      <td>0.0</td>\n",
       "      <td>1.0</td>\n",
       "      <td>0</td>\n",
       "      <td>0</td>\n",
       "      <td>0.0</td>\n",
       "      <td>258</td>\n",
       "    </tr>\n",
       "    <tr>\n",
       "      <th>1</th>\n",
       "      <td>1209647</td>\n",
       "      <td>36</td>\n",
       "      <td>Current</td>\n",
       "      <td>NaN</td>\n",
       "      <td>0.12016</td>\n",
       "      <td>0.0920</td>\n",
       "      <td>0.0820</td>\n",
       "      <td>A</td>\n",
       "      <td>7.0</td>\n",
       "      <td>2</td>\n",
       "      <td>...</td>\n",
       "      <td>0.00</td>\n",
       "      <td>0.0</td>\n",
       "      <td>0.0</td>\n",
       "      <td>0.0</td>\n",
       "      <td>0.0</td>\n",
       "      <td>1.0</td>\n",
       "      <td>0</td>\n",
       "      <td>0</td>\n",
       "      <td>0.0</td>\n",
       "      <td>1</td>\n",
       "    </tr>\n",
       "    <tr>\n",
       "      <th>2</th>\n",
       "      <td>81716</td>\n",
       "      <td>36</td>\n",
       "      <td>Completed</td>\n",
       "      <td>2009-12-17 00:00:00</td>\n",
       "      <td>0.28269</td>\n",
       "      <td>0.2750</td>\n",
       "      <td>0.2400</td>\n",
       "      <td>NaN</td>\n",
       "      <td>NaN</td>\n",
       "      <td>0</td>\n",
       "      <td>...</td>\n",
       "      <td>-24.20</td>\n",
       "      <td>0.0</td>\n",
       "      <td>0.0</td>\n",
       "      <td>0.0</td>\n",
       "      <td>0.0</td>\n",
       "      <td>1.0</td>\n",
       "      <td>0</td>\n",
       "      <td>0</td>\n",
       "      <td>0.0</td>\n",
       "      <td>41</td>\n",
       "    </tr>\n",
       "    <tr>\n",
       "      <th>3</th>\n",
       "      <td>658116</td>\n",
       "      <td>36</td>\n",
       "      <td>Current</td>\n",
       "      <td>NaN</td>\n",
       "      <td>0.12528</td>\n",
       "      <td>0.0974</td>\n",
       "      <td>0.0874</td>\n",
       "      <td>A</td>\n",
       "      <td>9.0</td>\n",
       "      <td>16</td>\n",
       "      <td>...</td>\n",
       "      <td>-108.01</td>\n",
       "      <td>0.0</td>\n",
       "      <td>0.0</td>\n",
       "      <td>0.0</td>\n",
       "      <td>0.0</td>\n",
       "      <td>1.0</td>\n",
       "      <td>0</td>\n",
       "      <td>0</td>\n",
       "      <td>0.0</td>\n",
       "      <td>158</td>\n",
       "    </tr>\n",
       "    <tr>\n",
       "      <th>4</th>\n",
       "      <td>909464</td>\n",
       "      <td>36</td>\n",
       "      <td>Current</td>\n",
       "      <td>NaN</td>\n",
       "      <td>0.24614</td>\n",
       "      <td>0.2085</td>\n",
       "      <td>0.1985</td>\n",
       "      <td>D</td>\n",
       "      <td>4.0</td>\n",
       "      <td>2</td>\n",
       "      <td>...</td>\n",
       "      <td>-60.27</td>\n",
       "      <td>0.0</td>\n",
       "      <td>0.0</td>\n",
       "      <td>0.0</td>\n",
       "      <td>0.0</td>\n",
       "      <td>1.0</td>\n",
       "      <td>0</td>\n",
       "      <td>0</td>\n",
       "      <td>0.0</td>\n",
       "      <td>20</td>\n",
       "    </tr>\n",
       "  </tbody>\n",
       "</table>\n",
       "<p>5 rows × 65 columns</p>\n",
       "</div>"
      ],
      "text/plain": [
       "   ListingNumber  Term LoanStatus           ClosedDate  BorrowerAPR  \\\n",
       "0         193129    36  Completed  2009-08-14 00:00:00      0.16516   \n",
       "1        1209647    36    Current                  NaN      0.12016   \n",
       "2          81716    36  Completed  2009-12-17 00:00:00      0.28269   \n",
       "3         658116    36    Current                  NaN      0.12528   \n",
       "4         909464    36    Current                  NaN      0.24614   \n",
       "\n",
       "   BorrowerRate  LenderYield ProsperRating (Alpha)  ProsperScore  \\\n",
       "0        0.1580       0.1380                   NaN           NaN   \n",
       "1        0.0920       0.0820                     A           7.0   \n",
       "2        0.2750       0.2400                   NaN           NaN   \n",
       "3        0.0974       0.0874                     A           9.0   \n",
       "4        0.2085       0.1985                     D           4.0   \n",
       "\n",
       "   ListingCategory (numeric)  ... LP_ServiceFees LP_CollectionFees  \\\n",
       "0                          0  ...        -133.18               0.0   \n",
       "1                          2  ...           0.00               0.0   \n",
       "2                          0  ...         -24.20               0.0   \n",
       "3                         16  ...        -108.01               0.0   \n",
       "4                          2  ...         -60.27               0.0   \n",
       "\n",
       "  LP_GrossPrincipalLoss  LP_NetPrincipalLoss  LP_NonPrincipalRecoverypayments  \\\n",
       "0                   0.0                  0.0                              0.0   \n",
       "1                   0.0                  0.0                              0.0   \n",
       "2                   0.0                  0.0                              0.0   \n",
       "3                   0.0                  0.0                              0.0   \n",
       "4                   0.0                  0.0                              0.0   \n",
       "\n",
       "   PercentFunded Recommendations  InvestmentFromFriendsCount  \\\n",
       "0            1.0               0                           0   \n",
       "1            1.0               0                           0   \n",
       "2            1.0               0                           0   \n",
       "3            1.0               0                           0   \n",
       "4            1.0               0                           0   \n",
       "\n",
       "   InvestmentFromFriendsAmount Investors  \n",
       "0                          0.0       258  \n",
       "1                          0.0         1  \n",
       "2                          0.0        41  \n",
       "3                          0.0       158  \n",
       "4                          0.0        20  \n",
       "\n",
       "[5 rows x 65 columns]"
      ]
     },
     "execution_count": 24,
     "metadata": {},
     "output_type": "execute_result"
    }
   ],
   "source": [
    "df1.head()"
   ]
  },
  {
   "cell_type": "code",
   "execution_count": 26,
   "id": "929d9136",
   "metadata": {},
   "outputs": [
    {
     "data": {
      "text/plain": [
       "(113937, 65)"
      ]
     },
     "execution_count": 26,
     "metadata": {},
     "output_type": "execute_result"
    }
   ],
   "source": [
    "df1.shape"
   ]
  },
  {
   "cell_type": "code",
   "execution_count": 27,
   "id": "4704d689",
   "metadata": {},
   "outputs": [
    {
     "name": "stdout",
     "output_type": "stream",
     "text": [
      "<class 'pandas.core.frame.DataFrame'>\n",
      "RangeIndex: 113937 entries, 0 to 113936\n",
      "Data columns (total 65 columns):\n",
      " #   Column                              Non-Null Count   Dtype  \n",
      "---  ------                              --------------   -----  \n",
      " 0   ListingNumber                       113937 non-null  int64  \n",
      " 1   Term                                113937 non-null  int64  \n",
      " 2   LoanStatus                          113937 non-null  object \n",
      " 3   ClosedDate                          55089 non-null   object \n",
      " 4   BorrowerAPR                         113912 non-null  float64\n",
      " 5   BorrowerRate                        113937 non-null  float64\n",
      " 6   LenderYield                         113937 non-null  float64\n",
      " 7   ProsperRating (Alpha)               84853 non-null   object \n",
      " 8   ProsperScore                        84853 non-null   float64\n",
      " 9   ListingCategory (numeric)           113937 non-null  int64  \n",
      " 10  BorrowerState                       108422 non-null  object \n",
      " 11  Occupation                          110349 non-null  object \n",
      " 12  EmploymentStatus                    111682 non-null  object \n",
      " 13  EmploymentStatusDuration            106312 non-null  float64\n",
      " 14  IsBorrowerHomeowner                 113937 non-null  bool   \n",
      " 15  CurrentlyInGroup                    113937 non-null  bool   \n",
      " 16  DateCreditPulled                    113937 non-null  object \n",
      " 17  CreditScoreRangeLower               113346 non-null  float64\n",
      " 18  CreditScoreRangeUpper               113346 non-null  float64\n",
      " 19  FirstRecordedCreditLine             113240 non-null  object \n",
      " 20  CurrentCreditLines                  106333 non-null  float64\n",
      " 21  OpenCreditLines                     106333 non-null  float64\n",
      " 22  TotalCreditLinespast7years          113240 non-null  float64\n",
      " 23  OpenRevolvingAccounts               113937 non-null  int64  \n",
      " 24  OpenRevolvingMonthlyPayment         113937 non-null  float64\n",
      " 25  InquiriesLast6Months                113240 non-null  float64\n",
      " 26  TotalInquiries                      112778 non-null  float64\n",
      " 27  CurrentDelinquencies                113240 non-null  float64\n",
      " 28  AmountDelinquent                    106315 non-null  float64\n",
      " 29  DelinquenciesLast7Years             112947 non-null  float64\n",
      " 30  PublicRecordsLast10Years            113240 non-null  float64\n",
      " 31  PublicRecordsLast12Months           106333 non-null  float64\n",
      " 32  RevolvingCreditBalance              106333 non-null  float64\n",
      " 33  BankcardUtilization                 106333 non-null  float64\n",
      " 34  AvailableBankcardCredit             106393 non-null  float64\n",
      " 35  TotalTrades                         106393 non-null  float64\n",
      " 36  TradesNeverDelinquent (percentage)  106393 non-null  float64\n",
      " 37  TradesOpenedLast6Months             106393 non-null  float64\n",
      " 38  DebtToIncomeRatio                   105383 non-null  float64\n",
      " 39  IncomeRange                         113937 non-null  object \n",
      " 40  IncomeVerifiable                    113937 non-null  bool   \n",
      " 41  StatedMonthlyIncome                 113937 non-null  float64\n",
      " 42  LoanKey                             113937 non-null  object \n",
      " 43  ScorexChangeAtTimeOfListing         18928 non-null   float64\n",
      " 44  LoanCurrentDaysDelinquent           113937 non-null  int64  \n",
      " 45  LoanFirstDefaultedCycleNumber       16952 non-null   float64\n",
      " 46  LoanMonthsSinceOrigination          113937 non-null  int64  \n",
      " 47  LoanNumber                          113937 non-null  int64  \n",
      " 48  LoanOriginalAmount                  113937 non-null  int64  \n",
      " 49  LoanOriginationQuarter              113937 non-null  object \n",
      " 50  MemberKey                           113937 non-null  object \n",
      " 51  MonthlyLoanPayment                  113937 non-null  float64\n",
      " 52  LP_CustomerPayments                 113937 non-null  float64\n",
      " 53  LP_CustomerPrincipalPayments        113937 non-null  float64\n",
      " 54  LP_InterestandFees                  113937 non-null  float64\n",
      " 55  LP_ServiceFees                      113937 non-null  float64\n",
      " 56  LP_CollectionFees                   113937 non-null  float64\n",
      " 57  LP_GrossPrincipalLoss               113937 non-null  float64\n",
      " 58  LP_NetPrincipalLoss                 113937 non-null  float64\n",
      " 59  LP_NonPrincipalRecoverypayments     113937 non-null  float64\n",
      " 60  PercentFunded                       113937 non-null  float64\n",
      " 61  Recommendations                     113937 non-null  int64  \n",
      " 62  InvestmentFromFriendsCount          113937 non-null  int64  \n",
      " 63  InvestmentFromFriendsAmount         113937 non-null  float64\n",
      " 64  Investors                           113937 non-null  int64  \n",
      "dtypes: bool(3), float64(39), int64(11), object(12)\n",
      "memory usage: 54.2+ MB\n"
     ]
    }
   ],
   "source": [
    "df1.info()"
   ]
  },
  {
   "cell_type": "code",
   "execution_count": 28,
   "id": "febd6c04",
   "metadata": {},
   "outputs": [
    {
     "data": {
      "text/plain": [
       "C     5649\n",
       "D     5153\n",
       "B     4389\n",
       "AA    3509\n",
       "HR    3508\n",
       "A     3315\n",
       "E     3289\n",
       "NC     141\n",
       "Name: CreditGrade, dtype: int64"
      ]
     },
     "execution_count": 28,
     "metadata": {},
     "output_type": "execute_result"
    }
   ],
   "source": [
    "df['CreditGrade'].value_counts()\n",
    "#counting because it is categorical data"
   ]
  },
  {
   "cell_type": "code",
   "execution_count": 30,
   "id": "22c4e2b8",
   "metadata": {},
   "outputs": [
    {
     "name": "stderr",
     "output_type": "stream",
     "text": [
      "C:\\Users\\dell\\New folder\\lib\\site-packages\\seaborn\\_decorators.py:36: FutureWarning: Pass the following variable as a keyword arg: x. From version 0.12, the only valid positional argument will be `data`, and passing other arguments without an explicit keyword will result in an error or misinterpretation.\n",
      "  warnings.warn(\n"
     ]
    },
    {
     "data": {
      "image/png": "[encoded data removed]",
      "text/plain": [
       "<Figure size 1440x360 with 1 Axes>"
      ]
     },
     "metadata": {
      "needs_background": "light"
     },
     "output_type": "display_data"
    }
   ],
   "source": [
    "plt.figure(figsize = (20,5))\n",
    "sns.countplot(df.CreditGrade.dropna(), order = df.CreditGrade.value_counts().index);"
   ]
  },
  {
   "cell_type": "code",
   "execution_count": 31,
   "id": "1a02658e",
   "metadata": {},
   "outputs": [
    {
     "data": {
      "text/plain": [
       "Current                   56576\n",
       "Completed                 38074\n",
       "Chargedoff                11992\n",
       "Defaulted                  5018\n",
       "Past Due (1-15 days)        806\n",
       "Past Due (31-60 days)       363\n",
       "Past Due (61-90 days)       313\n",
       "Past Due (91-120 days)      304\n",
       "Past Due (16-30 days)       265\n",
       "FinalPaymentInProgress      205\n",
       "Past Due (>120 days)         16\n",
       "Cancelled                     5\n",
       "Name: LoanStatus, dtype: int64"
      ]
     },
     "execution_count": 31,
     "metadata": {},
     "output_type": "execute_result"
    }
   ],
   "source": [
    "df['LoanStatus'].value_counts()"
   ]
  },
  {
   "cell_type": "code",
   "execution_count": 34,
   "id": "55e0ccba",
   "metadata": {},
   "outputs": [
    {
     "name": "stderr",
     "output_type": "stream",
     "text": [
      "C:\\Users\\dell\\New folder\\lib\\site-packages\\seaborn\\_decorators.py:36: FutureWarning: Pass the following variable as a keyword arg: x. From version 0.12, the only valid positional argument will be `data`, and passing other arguments without an explicit keyword will result in an error or misinterpretation.\n",
      "  warnings.warn(\n"
     ]
    },
    {
     "data": {
      "image/png": "[encoded data removed]",
      "text/plain": [
       "<Figure size 720x288 with 1 Axes>"
      ]
     },
     "metadata": {
      "needs_background": "light"
     },
     "output_type": "display_data"
    }
   ],
   "source": [
    "plt.figure(figsize = (10,4))\n",
    "sns.countplot(df.IncomeVerifiable.dropna(), order = df.IncomeVerifiable.value_counts().index);"
   ]
  },
  {
   "cell_type": "markdown",
   "id": "2c181aae",
   "metadata": {},
   "source": [
    "# We use mean concept for numerical cloumns so list columns with numerical data and apply mean concept"
   ]
  },
  {
   "cell_type": "code",
   "execution_count": 39,
   "id": "a92844e8",
   "metadata": {},
   "outputs": [
    {
     "name": "stdout",
     "output_type": "stream",
     "text": [
      "BorrowerAPR\n",
      "CreditScoreRangeLower\n",
      "CreditScoreRangeUpper\n",
      "ProsperScore\n",
      "EmploymentStatusDuration\n",
      "CurrentCreditLines\n",
      "OpenCreditLines\n",
      "TotalCreditLinespast7years\n",
      "InquiriesLast6Months\n",
      "TotalInquiries\n",
      "CurrentDelinquencies\n",
      "AmountDelinquent\n",
      "DelinquenciesLast7Years\n",
      "PublicRecordsLast10Years\n",
      "PublicRecordsLast12Months\n",
      "RevolvingCreditBalance\n",
      "BankcardUtilization\n",
      "AvailableBankcardCredit\n",
      "TotalTrades\n",
      "TradesNeverDelinquent (percentage)\n",
      "TradesOpenedLast6Months\n",
      "DebtToIncomeRatio\n",
      "ScorexChangeAtTimeOfListing\n",
      "LoanFirstDefaultedCycleNumber\n"
     ]
    }
   ],
   "source": [
    "### All are numerical columns so we use mean concept.\n",
    "cols =['BorrowerAPR','CreditScoreRangeLower','CreditScoreRangeUpper','ProsperScore','EmploymentStatusDuration','CurrentCreditLines','OpenCreditLines','TotalCreditLinespast7years','InquiriesLast6Months','TotalInquiries',\n",
    "      'CurrentDelinquencies','AmountDelinquent','DelinquenciesLast7Years','PublicRecordsLast10Years','PublicRecordsLast12Months','RevolvingCreditBalance','BankcardUtilization','AvailableBankcardCredit','TotalTrades',\n",
    "      'TradesNeverDelinquent (percentage)','TradesOpenedLast6Months','DebtToIncomeRatio','ScorexChangeAtTimeOfListing','LoanFirstDefaultedCycleNumber']\n",
    "\n",
    "\n",
    "for i in cols:\n",
    "    df1[i].fillna(df1[i].mean(), inplace=True)\n",
    "    print(i)"
   ]
  },
  {
   "cell_type": "markdown",
   "id": "cc4b250c",
   "metadata": {},
   "source": [
    "# We use mode concept for categorical columns so listing all categorical data columns and apply mode concept"
   ]
  },
  {
   "cell_type": "code",
   "execution_count": 40,
   "id": "480b8c8b",
   "metadata": {},
   "outputs": [
    {
     "name": "stdout",
     "output_type": "stream",
     "text": [
      "ClosedDate\n",
      "ProsperRating (Alpha)\n",
      "BorrowerState\n",
      "Occupation\n",
      "EmploymentStatus\n",
      "FirstRecordedCreditLine\n"
     ]
    }
   ],
   "source": [
    "cols = ['ClosedDate','ProsperRating (Alpha)','BorrowerState','Occupation','EmploymentStatus','FirstRecordedCreditLine']\n",
    "\n",
    "\n",
    "for i in cols:\n",
    "    df1[i].fillna(df1[i].mode()[0], inplace=True)\n",
    "    print(i)"
   ]
  },
  {
   "cell_type": "code",
   "execution_count": 55,
   "id": "7b761e83",
   "metadata": {},
   "outputs": [
    {
     "name": "stdout",
     "output_type": "stream",
     "text": [
      "<class 'pandas.core.frame.DataFrame'>\n",
      "RangeIndex: 113937 entries, 0 to 113936\n",
      "Data columns (total 65 columns):\n",
      " #   Column                              Non-Null Count   Dtype  \n",
      "---  ------                              --------------   -----  \n",
      " 0   ListingNumber                       113937 non-null  int64  \n",
      " 1   Term                                113937 non-null  int64  \n",
      " 2   LoanStatus                          113937 non-null  int32  \n",
      " 3   ClosedDate                          113937 non-null  int32  \n",
      " 4   BorrowerAPR                         113937 non-null  float64\n",
      " 5   BorrowerRate                        113937 non-null  float64\n",
      " 6   LenderYield                         113937 non-null  float64\n",
      " 7   ProsperRating (Alpha)               113937 non-null  int32  \n",
      " 8   ProsperScore                        113937 non-null  float64\n",
      " 9   ListingCategory (numeric)           113937 non-null  int64  \n",
      " 10  BorrowerState                       113937 non-null  int32  \n",
      " 11  Occupation                          113937 non-null  int32  \n",
      " 12  EmploymentStatus                    113937 non-null  int32  \n",
      " 13  EmploymentStatusDuration            113937 non-null  float64\n",
      " 14  IsBorrowerHomeowner                 113937 non-null  int64  \n",
      " 15  CurrentlyInGroup                    113937 non-null  int64  \n",
      " 16  DateCreditPulled                    113937 non-null  int32  \n",
      " 17  CreditScoreRangeLower               113937 non-null  float64\n",
      " 18  CreditScoreRangeUpper               113937 non-null  float64\n",
      " 19  FirstRecordedCreditLine             113937 non-null  int32  \n",
      " 20  CurrentCreditLines                  113937 non-null  float64\n",
      " 21  OpenCreditLines                     113937 non-null  float64\n",
      " 22  TotalCreditLinespast7years          113937 non-null  float64\n",
      " 23  OpenRevolvingAccounts               113937 non-null  int64  \n",
      " 24  OpenRevolvingMonthlyPayment         113937 non-null  float64\n",
      " 25  InquiriesLast6Months                113937 non-null  float64\n",
      " 26  TotalInquiries                      113937 non-null  float64\n",
      " 27  CurrentDelinquencies                113937 non-null  float64\n",
      " 28  AmountDelinquent                    113937 non-null  float64\n",
      " 29  DelinquenciesLast7Years             113937 non-null  float64\n",
      " 30  PublicRecordsLast10Years            113937 non-null  float64\n",
      " 31  PublicRecordsLast12Months           113937 non-null  float64\n",
      " 32  RevolvingCreditBalance              113937 non-null  float64\n",
      " 33  BankcardUtilization                 113937 non-null  float64\n",
      " 34  AvailableBankcardCredit             113937 non-null  float64\n",
      " 35  TotalTrades                         113937 non-null  float64\n",
      " 36  TradesNeverDelinquent (percentage)  113937 non-null  float64\n",
      " 37  TradesOpenedLast6Months             113937 non-null  float64\n",
      " 38  DebtToIncomeRatio                   113937 non-null  float64\n",
      " 39  IncomeRange                         113937 non-null  int32  \n",
      " 40  IncomeVerifiable                    113937 non-null  int64  \n",
      " 41  StatedMonthlyIncome                 113937 non-null  float64\n",
      " 42  LoanKey                             113937 non-null  int32  \n",
      " 43  ScorexChangeAtTimeOfListing         113937 non-null  float64\n",
      " 44  LoanCurrentDaysDelinquent           113937 non-null  int64  \n",
      " 45  LoanFirstDefaultedCycleNumber       113937 non-null  float64\n",
      " 46  LoanMonthsSinceOrigination          113937 non-null  int64  \n",
      " 47  LoanNumber                          113937 non-null  int64  \n",
      " 48  LoanOriginalAmount                  113937 non-null  int64  \n",
      " 49  LoanOriginationQuarter              113937 non-null  int32  \n",
      " 50  MemberKey                           113937 non-null  int32  \n",
      " 51  MonthlyLoanPayment                  113937 non-null  float64\n",
      " 52  LP_CustomerPayments                 113937 non-null  float64\n",
      " 53  LP_CustomerPrincipalPayments        113937 non-null  float64\n",
      " 54  LP_InterestandFees                  113937 non-null  float64\n",
      " 55  LP_ServiceFees                      113937 non-null  float64\n",
      " 56  LP_CollectionFees                   113937 non-null  float64\n",
      " 57  LP_GrossPrincipalLoss               113937 non-null  float64\n",
      " 58  LP_NetPrincipalLoss                 113937 non-null  float64\n",
      " 59  LP_NonPrincipalRecoverypayments     113937 non-null  float64\n",
      " 60  PercentFunded                       113937 non-null  float64\n",
      " 61  Recommendations                     113937 non-null  int64  \n",
      " 62  InvestmentFromFriendsCount          113937 non-null  int64  \n",
      " 63  InvestmentFromFriendsAmount         113937 non-null  float64\n",
      " 64  Investors                           113937 non-null  int64  \n",
      "dtypes: float64(39), int32(12), int64(14)\n",
      "memory usage: 51.3 MB\n"
     ]
    }
   ],
   "source": [
    "df1.info()\n"
   ]
  },
  {
   "cell_type": "code",
   "execution_count": 47,
   "id": "8d855c7f",
   "metadata": {},
   "outputs": [],
   "source": [
    "from sklearn.preprocessing import LabelEncoder"
   ]
  },
  {
   "cell_type": "code",
   "execution_count": 48,
   "id": "ba3a6dfe",
   "metadata": {},
   "outputs": [],
   "source": [
    "l1 = LabelEncoder()"
   ]
  },
  {
   "cell_type": "code",
   "execution_count": 49,
   "id": "facd8c7d",
   "metadata": {},
   "outputs": [],
   "source": [
    "cols = ['LoanStatus','ClosedDate','ProsperRating (Alpha)','BorrowerState','Occupation','EmploymentStatus','FirstRecordedCreditLine',\n",
    "       'IsBorrowerHomeowner','CurrentlyInGroup','DateCreditPulled','IncomeRange','IncomeVerifiable','LoanKey','LoanOriginationQuarter',\n",
    "       'MemberKey']"
   ]
  },
  {
   "cell_type": "code",
   "execution_count": 51,
   "id": "1b209957",
   "metadata": {},
   "outputs": [],
   "source": [
    "df1[cols] = df1[cols].apply(LabelEncoder().fit_transform)"
   ]
  },
  {
   "cell_type": "code",
   "execution_count": 52,
   "id": "feb11058",
   "metadata": {},
   "outputs": [
    {
     "data": {
      "text/html": [
       "<div>\n",
       "<style scoped>\n",
       "    .dataframe tbody tr th:only-of-type {\n",
       "        vertical-align: middle;\n",
       "    }\n",
       "\n",
       "    .dataframe tbody tr th {\n",
       "        vertical-align: top;\n",
       "    }\n",
       "\n",
       "    .dataframe thead th {\n",
       "        text-align: right;\n",
       "    }\n",
       "</style>\n",
       "<table border=\"1\" class=\"dataframe\">\n",
       "  <thead>\n",
       "    <tr style=\"text-align: right;\">\n",
       "      <th></th>\n",
       "      <th>ListingNumber</th>\n",
       "      <th>Term</th>\n",
       "      <th>LoanStatus</th>\n",
       "      <th>ClosedDate</th>\n",
       "      <th>BorrowerAPR</th>\n",
       "      <th>BorrowerRate</th>\n",
       "      <th>LenderYield</th>\n",
       "      <th>ProsperRating (Alpha)</th>\n",
       "      <th>ProsperScore</th>\n",
       "      <th>ListingCategory (numeric)</th>\n",
       "      <th>...</th>\n",
       "      <th>LP_ServiceFees</th>\n",
       "      <th>LP_CollectionFees</th>\n",
       "      <th>LP_GrossPrincipalLoss</th>\n",
       "      <th>LP_NetPrincipalLoss</th>\n",
       "      <th>LP_NonPrincipalRecoverypayments</th>\n",
       "      <th>PercentFunded</th>\n",
       "      <th>Recommendations</th>\n",
       "      <th>InvestmentFromFriendsCount</th>\n",
       "      <th>InvestmentFromFriendsAmount</th>\n",
       "      <th>Investors</th>\n",
       "    </tr>\n",
       "  </thead>\n",
       "  <tbody>\n",
       "    <tr>\n",
       "      <th>0</th>\n",
       "      <td>193129</td>\n",
       "      <td>36</td>\n",
       "      <td>2</td>\n",
       "      <td>1136</td>\n",
       "      <td>0.16516</td>\n",
       "      <td>0.1580</td>\n",
       "      <td>0.1380</td>\n",
       "      <td>3</td>\n",
       "      <td>5.950067</td>\n",
       "      <td>0</td>\n",
       "      <td>...</td>\n",
       "      <td>-133.18</td>\n",
       "      <td>0.0</td>\n",
       "      <td>0.0</td>\n",
       "      <td>0.0</td>\n",
       "      <td>0.0</td>\n",
       "      <td>1.0</td>\n",
       "      <td>0</td>\n",
       "      <td>0</td>\n",
       "      <td>0.0</td>\n",
       "      <td>258</td>\n",
       "    </tr>\n",
       "    <tr>\n",
       "      <th>1</th>\n",
       "      <td>1209647</td>\n",
       "      <td>36</td>\n",
       "      <td>3</td>\n",
       "      <td>2795</td>\n",
       "      <td>0.12016</td>\n",
       "      <td>0.0920</td>\n",
       "      <td>0.0820</td>\n",
       "      <td>0</td>\n",
       "      <td>7.000000</td>\n",
       "      <td>2</td>\n",
       "      <td>...</td>\n",
       "      <td>0.00</td>\n",
       "      <td>0.0</td>\n",
       "      <td>0.0</td>\n",
       "      <td>0.0</td>\n",
       "      <td>0.0</td>\n",
       "      <td>1.0</td>\n",
       "      <td>0</td>\n",
       "      <td>0</td>\n",
       "      <td>0.0</td>\n",
       "      <td>1</td>\n",
       "    </tr>\n",
       "    <tr>\n",
       "      <th>2</th>\n",
       "      <td>81716</td>\n",
       "      <td>36</td>\n",
       "      <td>2</td>\n",
       "      <td>1261</td>\n",
       "      <td>0.28269</td>\n",
       "      <td>0.2750</td>\n",
       "      <td>0.2400</td>\n",
       "      <td>3</td>\n",
       "      <td>5.950067</td>\n",
       "      <td>0</td>\n",
       "      <td>...</td>\n",
       "      <td>-24.20</td>\n",
       "      <td>0.0</td>\n",
       "      <td>0.0</td>\n",
       "      <td>0.0</td>\n",
       "      <td>0.0</td>\n",
       "      <td>1.0</td>\n",
       "      <td>0</td>\n",
       "      <td>0</td>\n",
       "      <td>0.0</td>\n",
       "      <td>41</td>\n",
       "    </tr>\n",
       "    <tr>\n",
       "      <th>3</th>\n",
       "      <td>658116</td>\n",
       "      <td>36</td>\n",
       "      <td>3</td>\n",
       "      <td>2795</td>\n",
       "      <td>0.12528</td>\n",
       "      <td>0.0974</td>\n",
       "      <td>0.0874</td>\n",
       "      <td>0</td>\n",
       "      <td>9.000000</td>\n",
       "      <td>16</td>\n",
       "      <td>...</td>\n",
       "      <td>-108.01</td>\n",
       "      <td>0.0</td>\n",
       "      <td>0.0</td>\n",
       "      <td>0.0</td>\n",
       "      <td>0.0</td>\n",
       "      <td>1.0</td>\n",
       "      <td>0</td>\n",
       "      <td>0</td>\n",
       "      <td>0.0</td>\n",
       "      <td>158</td>\n",
       "    </tr>\n",
       "    <tr>\n",
       "      <th>4</th>\n",
       "      <td>909464</td>\n",
       "      <td>36</td>\n",
       "      <td>3</td>\n",
       "      <td>2795</td>\n",
       "      <td>0.24614</td>\n",
       "      <td>0.2085</td>\n",
       "      <td>0.1985</td>\n",
       "      <td>4</td>\n",
       "      <td>4.000000</td>\n",
       "      <td>2</td>\n",
       "      <td>...</td>\n",
       "      <td>-60.27</td>\n",
       "      <td>0.0</td>\n",
       "      <td>0.0</td>\n",
       "      <td>0.0</td>\n",
       "      <td>0.0</td>\n",
       "      <td>1.0</td>\n",
       "      <td>0</td>\n",
       "      <td>0</td>\n",
       "      <td>0.0</td>\n",
       "      <td>20</td>\n",
       "    </tr>\n",
       "    <tr>\n",
       "      <th>...</th>\n",
       "      <td>...</td>\n",
       "      <td>...</td>\n",
       "      <td>...</td>\n",
       "      <td>...</td>\n",
       "      <td>...</td>\n",
       "      <td>...</td>\n",
       "      <td>...</td>\n",
       "      <td>...</td>\n",
       "      <td>...</td>\n",
       "      <td>...</td>\n",
       "      <td>...</td>\n",
       "      <td>...</td>\n",
       "      <td>...</td>\n",
       "      <td>...</td>\n",
       "      <td>...</td>\n",
       "      <td>...</td>\n",
       "      <td>...</td>\n",
       "      <td>...</td>\n",
       "      <td>...</td>\n",
       "      <td>...</td>\n",
       "      <td>...</td>\n",
       "    </tr>\n",
       "    <tr>\n",
       "      <th>113932</th>\n",
       "      <td>753087</td>\n",
       "      <td>36</td>\n",
       "      <td>3</td>\n",
       "      <td>2795</td>\n",
       "      <td>0.22354</td>\n",
       "      <td>0.1864</td>\n",
       "      <td>0.1764</td>\n",
       "      <td>3</td>\n",
       "      <td>5.000000</td>\n",
       "      <td>1</td>\n",
       "      <td>...</td>\n",
       "      <td>-75.58</td>\n",
       "      <td>0.0</td>\n",
       "      <td>0.0</td>\n",
       "      <td>0.0</td>\n",
       "      <td>0.0</td>\n",
       "      <td>1.0</td>\n",
       "      <td>0</td>\n",
       "      <td>0</td>\n",
       "      <td>0.0</td>\n",
       "      <td>1</td>\n",
       "    </tr>\n",
       "    <tr>\n",
       "      <th>113933</th>\n",
       "      <td>537216</td>\n",
       "      <td>36</td>\n",
       "      <td>5</td>\n",
       "      <td>2795</td>\n",
       "      <td>0.13220</td>\n",
       "      <td>0.1110</td>\n",
       "      <td>0.1010</td>\n",
       "      <td>0</td>\n",
       "      <td>8.000000</td>\n",
       "      <td>7</td>\n",
       "      <td>...</td>\n",
       "      <td>-30.05</td>\n",
       "      <td>0.0</td>\n",
       "      <td>0.0</td>\n",
       "      <td>0.0</td>\n",
       "      <td>0.0</td>\n",
       "      <td>1.0</td>\n",
       "      <td>0</td>\n",
       "      <td>0</td>\n",
       "      <td>0.0</td>\n",
       "      <td>22</td>\n",
       "    </tr>\n",
       "    <tr>\n",
       "      <th>113934</th>\n",
       "      <td>1069178</td>\n",
       "      <td>60</td>\n",
       "      <td>3</td>\n",
       "      <td>2795</td>\n",
       "      <td>0.23984</td>\n",
       "      <td>0.2150</td>\n",
       "      <td>0.2050</td>\n",
       "      <td>4</td>\n",
       "      <td>3.000000</td>\n",
       "      <td>1</td>\n",
       "      <td>...</td>\n",
       "      <td>-16.91</td>\n",
       "      <td>0.0</td>\n",
       "      <td>0.0</td>\n",
       "      <td>0.0</td>\n",
       "      <td>0.0</td>\n",
       "      <td>1.0</td>\n",
       "      <td>0</td>\n",
       "      <td>0</td>\n",
       "      <td>0.0</td>\n",
       "      <td>119</td>\n",
       "    </tr>\n",
       "    <tr>\n",
       "      <th>113935</th>\n",
       "      <td>539056</td>\n",
       "      <td>60</td>\n",
       "      <td>2</td>\n",
       "      <td>2592</td>\n",
       "      <td>0.28408</td>\n",
       "      <td>0.2605</td>\n",
       "      <td>0.2505</td>\n",
       "      <td>3</td>\n",
       "      <td>5.000000</td>\n",
       "      <td>2</td>\n",
       "      <td>...</td>\n",
       "      <td>-235.05</td>\n",
       "      <td>0.0</td>\n",
       "      <td>0.0</td>\n",
       "      <td>0.0</td>\n",
       "      <td>0.0</td>\n",
       "      <td>1.0</td>\n",
       "      <td>0</td>\n",
       "      <td>0</td>\n",
       "      <td>0.0</td>\n",
       "      <td>274</td>\n",
       "    </tr>\n",
       "    <tr>\n",
       "      <th>113936</th>\n",
       "      <td>1140093</td>\n",
       "      <td>36</td>\n",
       "      <td>3</td>\n",
       "      <td>2795</td>\n",
       "      <td>0.13189</td>\n",
       "      <td>0.1039</td>\n",
       "      <td>0.0939</td>\n",
       "      <td>0</td>\n",
       "      <td>7.000000</td>\n",
       "      <td>1</td>\n",
       "      <td>...</td>\n",
       "      <td>-1.70</td>\n",
       "      <td>0.0</td>\n",
       "      <td>0.0</td>\n",
       "      <td>0.0</td>\n",
       "      <td>0.0</td>\n",
       "      <td>1.0</td>\n",
       "      <td>0</td>\n",
       "      <td>0</td>\n",
       "      <td>0.0</td>\n",
       "      <td>1</td>\n",
       "    </tr>\n",
       "  </tbody>\n",
       "</table>\n",
       "<p>113937 rows × 65 columns</p>\n",
       "</div>"
      ],
      "text/plain": [
       "        ListingNumber  Term  LoanStatus  ClosedDate  BorrowerAPR  \\\n",
       "0              193129    36           2        1136      0.16516   \n",
       "1             1209647    36           3        2795      0.12016   \n",
       "2               81716    36           2        1261      0.28269   \n",
       "3              658116    36           3        2795      0.12528   \n",
       "4              909464    36           3        2795      0.24614   \n",
       "...               ...   ...         ...         ...          ...   \n",
       "113932         753087    36           3        2795      0.22354   \n",
       "113933         537216    36           5        2795      0.13220   \n",
       "113934        1069178    60           3        2795      0.23984   \n",
       "113935         539056    60           2        2592      0.28408   \n",
       "113936        1140093    36           3        2795      0.13189   \n",
       "\n",
       "        BorrowerRate  LenderYield  ProsperRating (Alpha)  ProsperScore  \\\n",
       "0             0.1580       0.1380                      3      5.950067   \n",
       "1             0.0920       0.0820                      0      7.000000   \n",
       "2             0.2750       0.2400                      3      5.950067   \n",
       "3             0.0974       0.0874                      0      9.000000   \n",
       "4             0.2085       0.1985                      4      4.000000   \n",
       "...              ...          ...                    ...           ...   \n",
       "113932        0.1864       0.1764                      3      5.000000   \n",
       "113933        0.1110       0.1010                      0      8.000000   \n",
       "113934        0.2150       0.2050                      4      3.000000   \n",
       "113935        0.2605       0.2505                      3      5.000000   \n",
       "113936        0.1039       0.0939                      0      7.000000   \n",
       "\n",
       "        ListingCategory (numeric)  ...  LP_ServiceFees  LP_CollectionFees  \\\n",
       "0                               0  ...         -133.18                0.0   \n",
       "1                               2  ...            0.00                0.0   \n",
       "2                               0  ...          -24.20                0.0   \n",
       "3                              16  ...         -108.01                0.0   \n",
       "4                               2  ...          -60.27                0.0   \n",
       "...                           ...  ...             ...                ...   \n",
       "113932                          1  ...          -75.58                0.0   \n",
       "113933                          7  ...          -30.05                0.0   \n",
       "113934                          1  ...          -16.91                0.0   \n",
       "113935                          2  ...         -235.05                0.0   \n",
       "113936                          1  ...           -1.70                0.0   \n",
       "\n",
       "        LP_GrossPrincipalLoss  LP_NetPrincipalLoss  \\\n",
       "0                         0.0                  0.0   \n",
       "1                         0.0                  0.0   \n",
       "2                         0.0                  0.0   \n",
       "3                         0.0                  0.0   \n",
       "4                         0.0                  0.0   \n",
       "...                       ...                  ...   \n",
       "113932                    0.0                  0.0   \n",
       "113933                    0.0                  0.0   \n",
       "113934                    0.0                  0.0   \n",
       "113935                    0.0                  0.0   \n",
       "113936                    0.0                  0.0   \n",
       "\n",
       "        LP_NonPrincipalRecoverypayments  PercentFunded  Recommendations  \\\n",
       "0                                   0.0            1.0                0   \n",
       "1                                   0.0            1.0                0   \n",
       "2                                   0.0            1.0                0   \n",
       "3                                   0.0            1.0                0   \n",
       "4                                   0.0            1.0                0   \n",
       "...                                 ...            ...              ...   \n",
       "113932                              0.0            1.0                0   \n",
       "113933                              0.0            1.0                0   \n",
       "113934                              0.0            1.0                0   \n",
       "113935                              0.0            1.0                0   \n",
       "113936                              0.0            1.0                0   \n",
       "\n",
       "        InvestmentFromFriendsCount  InvestmentFromFriendsAmount  Investors  \n",
       "0                                0                          0.0        258  \n",
       "1                                0                          0.0          1  \n",
       "2                                0                          0.0         41  \n",
       "3                                0                          0.0        158  \n",
       "4                                0                          0.0         20  \n",
       "...                            ...                          ...        ...  \n",
       "113932                           0                          0.0          1  \n",
       "113933                           0                          0.0         22  \n",
       "113934                           0                          0.0        119  \n",
       "113935                           0                          0.0        274  \n",
       "113936                           0                          0.0          1  \n",
       "\n",
       "[113937 rows x 65 columns]"
      ]
     },
     "execution_count": 52,
     "metadata": {},
     "output_type": "execute_result"
    }
   ],
   "source": [
    "df1\n"
   ]
  },
  {
   "cell_type": "code",
   "execution_count": 54,
   "id": "47fee6b4",
   "metadata": {},
   "outputs": [
    {
     "data": {
      "text/html": [
       "<div>\n",
       "<style scoped>\n",
       "    .dataframe tbody tr th:only-of-type {\n",
       "        vertical-align: middle;\n",
       "    }\n",
       "\n",
       "    .dataframe tbody tr th {\n",
       "        vertical-align: top;\n",
       "    }\n",
       "\n",
       "    .dataframe thead th {\n",
       "        text-align: right;\n",
       "    }\n",
       "</style>\n",
       "<table border=\"1\" class=\"dataframe\">\n",
       "  <thead>\n",
       "    <tr style=\"text-align: right;\">\n",
       "      <th></th>\n",
       "      <th>ListingNumber</th>\n",
       "      <th>Term</th>\n",
       "      <th>LoanStatus</th>\n",
       "      <th>ClosedDate</th>\n",
       "      <th>BorrowerAPR</th>\n",
       "      <th>BorrowerRate</th>\n",
       "      <th>LenderYield</th>\n",
       "      <th>ProsperRating (Alpha)</th>\n",
       "      <th>ProsperScore</th>\n",
       "      <th>ListingCategory (numeric)</th>\n",
       "      <th>...</th>\n",
       "      <th>LP_ServiceFees</th>\n",
       "      <th>LP_CollectionFees</th>\n",
       "      <th>LP_GrossPrincipalLoss</th>\n",
       "      <th>LP_NetPrincipalLoss</th>\n",
       "      <th>LP_NonPrincipalRecoverypayments</th>\n",
       "      <th>PercentFunded</th>\n",
       "      <th>Recommendations</th>\n",
       "      <th>InvestmentFromFriendsCount</th>\n",
       "      <th>InvestmentFromFriendsAmount</th>\n",
       "      <th>Investors</th>\n",
       "    </tr>\n",
       "  </thead>\n",
       "  <tbody>\n",
       "    <tr>\n",
       "      <th>0</th>\n",
       "      <td>193129</td>\n",
       "      <td>36</td>\n",
       "      <td>2</td>\n",
       "      <td>1136</td>\n",
       "      <td>0.16516</td>\n",
       "      <td>0.1580</td>\n",
       "      <td>0.1380</td>\n",
       "      <td>3</td>\n",
       "      <td>5.950067</td>\n",
       "      <td>0</td>\n",
       "      <td>...</td>\n",
       "      <td>-133.18</td>\n",
       "      <td>0.0</td>\n",
       "      <td>0.0</td>\n",
       "      <td>0.0</td>\n",
       "      <td>0.0</td>\n",
       "      <td>1.0</td>\n",
       "      <td>0</td>\n",
       "      <td>0</td>\n",
       "      <td>0.0</td>\n",
       "      <td>258</td>\n",
       "    </tr>\n",
       "    <tr>\n",
       "      <th>1</th>\n",
       "      <td>1209647</td>\n",
       "      <td>36</td>\n",
       "      <td>3</td>\n",
       "      <td>2795</td>\n",
       "      <td>0.12016</td>\n",
       "      <td>0.0920</td>\n",
       "      <td>0.0820</td>\n",
       "      <td>0</td>\n",
       "      <td>7.000000</td>\n",
       "      <td>2</td>\n",
       "      <td>...</td>\n",
       "      <td>0.00</td>\n",
       "      <td>0.0</td>\n",
       "      <td>0.0</td>\n",
       "      <td>0.0</td>\n",
       "      <td>0.0</td>\n",
       "      <td>1.0</td>\n",
       "      <td>0</td>\n",
       "      <td>0</td>\n",
       "      <td>0.0</td>\n",
       "      <td>1</td>\n",
       "    </tr>\n",
       "    <tr>\n",
       "      <th>2</th>\n",
       "      <td>81716</td>\n",
       "      <td>36</td>\n",
       "      <td>2</td>\n",
       "      <td>1261</td>\n",
       "      <td>0.28269</td>\n",
       "      <td>0.2750</td>\n",
       "      <td>0.2400</td>\n",
       "      <td>3</td>\n",
       "      <td>5.950067</td>\n",
       "      <td>0</td>\n",
       "      <td>...</td>\n",
       "      <td>-24.20</td>\n",
       "      <td>0.0</td>\n",
       "      <td>0.0</td>\n",
       "      <td>0.0</td>\n",
       "      <td>0.0</td>\n",
       "      <td>1.0</td>\n",
       "      <td>0</td>\n",
       "      <td>0</td>\n",
       "      <td>0.0</td>\n",
       "      <td>41</td>\n",
       "    </tr>\n",
       "    <tr>\n",
       "      <th>3</th>\n",
       "      <td>658116</td>\n",
       "      <td>36</td>\n",
       "      <td>3</td>\n",
       "      <td>2795</td>\n",
       "      <td>0.12528</td>\n",
       "      <td>0.0974</td>\n",
       "      <td>0.0874</td>\n",
       "      <td>0</td>\n",
       "      <td>9.000000</td>\n",
       "      <td>16</td>\n",
       "      <td>...</td>\n",
       "      <td>-108.01</td>\n",
       "      <td>0.0</td>\n",
       "      <td>0.0</td>\n",
       "      <td>0.0</td>\n",
       "      <td>0.0</td>\n",
       "      <td>1.0</td>\n",
       "      <td>0</td>\n",
       "      <td>0</td>\n",
       "      <td>0.0</td>\n",
       "      <td>158</td>\n",
       "    </tr>\n",
       "    <tr>\n",
       "      <th>4</th>\n",
       "      <td>909464</td>\n",
       "      <td>36</td>\n",
       "      <td>3</td>\n",
       "      <td>2795</td>\n",
       "      <td>0.24614</td>\n",
       "      <td>0.2085</td>\n",
       "      <td>0.1985</td>\n",
       "      <td>4</td>\n",
       "      <td>4.000000</td>\n",
       "      <td>2</td>\n",
       "      <td>...</td>\n",
       "      <td>-60.27</td>\n",
       "      <td>0.0</td>\n",
       "      <td>0.0</td>\n",
       "      <td>0.0</td>\n",
       "      <td>0.0</td>\n",
       "      <td>1.0</td>\n",
       "      <td>0</td>\n",
       "      <td>0</td>\n",
       "      <td>0.0</td>\n",
       "      <td>20</td>\n",
       "    </tr>\n",
       "  </tbody>\n",
       "</table>\n",
       "<p>5 rows × 65 columns</p>\n",
       "</div>"
      ],
      "text/plain": [
       "   ListingNumber  Term  LoanStatus  ClosedDate  BorrowerAPR  BorrowerRate  \\\n",
       "0         193129    36           2        1136      0.16516        0.1580   \n",
       "1        1209647    36           3        2795      0.12016        0.0920   \n",
       "2          81716    36           2        1261      0.28269        0.2750   \n",
       "3         658116    36           3        2795      0.12528        0.0974   \n",
       "4         909464    36           3        2795      0.24614        0.2085   \n",
       "\n",
       "   LenderYield  ProsperRating (Alpha)  ProsperScore  \\\n",
       "0       0.1380                      3      5.950067   \n",
       "1       0.0820                      0      7.000000   \n",
       "2       0.2400                      3      5.950067   \n",
       "3       0.0874                      0      9.000000   \n",
       "4       0.1985                      4      4.000000   \n",
       "\n",
       "   ListingCategory (numeric)  ...  LP_ServiceFees  LP_CollectionFees  \\\n",
       "0                          0  ...         -133.18                0.0   \n",
       "1                          2  ...            0.00                0.0   \n",
       "2                          0  ...          -24.20                0.0   \n",
       "3                         16  ...         -108.01                0.0   \n",
       "4                          2  ...          -60.27                0.0   \n",
       "\n",
       "   LP_GrossPrincipalLoss  LP_NetPrincipalLoss  \\\n",
       "0                    0.0                  0.0   \n",
       "1                    0.0                  0.0   \n",
       "2                    0.0                  0.0   \n",
       "3                    0.0                  0.0   \n",
       "4                    0.0                  0.0   \n",
       "\n",
       "   LP_NonPrincipalRecoverypayments  PercentFunded  Recommendations  \\\n",
       "0                              0.0            1.0                0   \n",
       "1                              0.0            1.0                0   \n",
       "2                              0.0            1.0                0   \n",
       "3                              0.0            1.0                0   \n",
       "4                              0.0            1.0                0   \n",
       "\n",
       "   InvestmentFromFriendsCount  InvestmentFromFriendsAmount  Investors  \n",
       "0                           0                          0.0        258  \n",
       "1                           0                          0.0          1  \n",
       "2                           0                          0.0         41  \n",
       "3                           0                          0.0        158  \n",
       "4                           0                          0.0         20  \n",
       "\n",
       "[5 rows x 65 columns]"
      ]
     },
     "execution_count": 54,
     "metadata": {},
     "output_type": "execute_result"
    }
   ],
   "source": [
    "df1.head()"
   ]
  },
  {
   "cell_type": "code",
   "execution_count": 56,
   "id": "88e15561",
   "metadata": {},
   "outputs": [
    {
     "data": {
      "text/plain": [
       "ListingNumber                  0\n",
       "Term                           0\n",
       "LoanStatus                     0\n",
       "ClosedDate                     0\n",
       "BorrowerAPR                    0\n",
       "                              ..\n",
       "PercentFunded                  0\n",
       "Recommendations                0\n",
       "InvestmentFromFriendsCount     0\n",
       "InvestmentFromFriendsAmount    0\n",
       "Investors                      0\n",
       "Length: 65, dtype: int64"
      ]
     },
     "execution_count": 56,
     "metadata": {},
     "output_type": "execute_result"
    }
   ],
   "source": [
    "df1.isnull().sum()"
   ]
  },
  {
   "cell_type": "code",
   "execution_count": 58,
   "id": "657a7338",
   "metadata": {},
   "outputs": [],
   "source": [
    "x1 = df1.drop(columns='LoanStatus', axis=1)\n",
    "y1 = df1['LoanStatus']"
   ]
  },
  {
   "cell_type": "code",
   "execution_count": 59,
   "id": "40c49111",
   "metadata": {},
   "outputs": [],
   "source": [
    "from sklearn.model_selection import train_test_split"
   ]
  },
  {
   "cell_type": "code",
   "execution_count": 60,
   "id": "f7524542",
   "metadata": {},
   "outputs": [],
   "source": [
    "x_train, x_test, y_train, y_test = train_test_split(x1, y1, test_size=0.2, random_state=0)"
   ]
  },
  {
   "cell_type": "code",
   "execution_count": 62,
   "id": "17ab69c5",
   "metadata": {},
   "outputs": [
    {
     "data": {
      "text/plain": [
       "(113937, 64)"
      ]
     },
     "execution_count": 62,
     "metadata": {},
     "output_type": "execute_result"
    }
   ],
   "source": [
    "x1.shape"
   ]
  },
  {
   "cell_type": "code",
   "execution_count": 63,
   "id": "05d99f26",
   "metadata": {},
   "outputs": [
    {
     "data": {
      "text/plain": [
       "(113937,)"
      ]
     },
     "execution_count": 63,
     "metadata": {},
     "output_type": "execute_result"
    }
   ],
   "source": [
    "y1.shape"
   ]
  },
  {
   "cell_type": "code",
   "execution_count": 64,
   "id": "f7a928f7",
   "metadata": {},
   "outputs": [
    {
     "data": {
      "text/plain": [
       "(91149, 64)"
      ]
     },
     "execution_count": 64,
     "metadata": {},
     "output_type": "execute_result"
    }
   ],
   "source": [
    "x_train.shape"
   ]
  },
  {
   "cell_type": "code",
   "execution_count": 65,
   "id": "ddcac123",
   "metadata": {},
   "outputs": [
    {
     "data": {
      "text/plain": [
       "(91149,)"
      ]
     },
     "execution_count": 65,
     "metadata": {},
     "output_type": "execute_result"
    }
   ],
   "source": [
    "y_train.shape"
   ]
  },
  {
   "cell_type": "code",
   "execution_count": 66,
   "id": "41831790",
   "metadata": {},
   "outputs": [
    {
     "data": {
      "text/plain": [
       "(22788, 64)"
      ]
     },
     "execution_count": 66,
     "metadata": {},
     "output_type": "execute_result"
    }
   ],
   "source": [
    "x_test.shape"
   ]
  },
  {
   "cell_type": "code",
   "execution_count": 67,
   "id": "c9ba1f73",
   "metadata": {},
   "outputs": [
    {
     "data": {
      "text/plain": [
       "(22788,)"
      ]
     },
     "execution_count": 67,
     "metadata": {},
     "output_type": "execute_result"
    }
   ],
   "source": [
    "y_test.shape"
   ]
  },
  {
   "cell_type": "code",
   "execution_count": 68,
   "id": "d6ff7d8c",
   "metadata": {},
   "outputs": [],
   "source": [
    "from sklearn.feature_selection import mutual_info_classif"
   ]
  },
  {
   "cell_type": "code",
   "execution_count": 69,
   "id": "2e9c1d11",
   "metadata": {},
   "outputs": [
    {
     "data": {
      "text/plain": [
       "array([0.4684245 , 0.08299576, 0.7564729 , 0.44389493, 0.37516191,\n",
       "       0.3683204 , 0.09577961, 0.26393563, 0.18010524, 0.02372043,\n",
       "       0.01599989, 0.2324755 , 0.0687124 , 0.0035336 , 0.05887115,\n",
       "       0.46968347, 0.10530607, 0.10703415, 0.0225582 , 0.07668198,\n",
       "       0.08253874, 0.02242976, 0.03825669, 0.06341207, 0.05693885,\n",
       "       0.05773329, 0.03282413, 0.06742863, 0.01269761, 0.0090432 ,\n",
       "       0.05814608, 0.08918436, 0.08534558, 0.08162725, 0.07478255,\n",
       "       0.07886606, 0.06353112, 0.02919258, 0.0789274 , 0.00402276,\n",
       "       0.03294383, 0.00495151, 0.01829039, 0.55929026, 0.42973281,\n",
       "       0.46888933, 0.47289274, 0.13235918, 0.46543202, 0.02792241,\n",
       "       0.28096815, 0.30394889, 0.59358995, 0.12528934, 0.13451344,\n",
       "       0.06905402, 0.4201604 , 0.41086607, 0.05952851, 0.00968493,\n",
       "       0.01419963, 0.00998592, 0.00871945, 0.14128131])"
      ]
     },
     "execution_count": 69,
     "metadata": {},
     "output_type": "execute_result"
    }
   ],
   "source": [
    "m1 = mutual_info_classif(x_train, y_train)\n",
    "m1"
   ]
  },
  {
   "cell_type": "code",
   "execution_count": 70,
   "id": "2e061d74",
   "metadata": {},
   "outputs": [
    {
     "data": {
      "text/plain": [
       "ClosedDate                      0.756473\n",
       "LP_CustomerPrincipalPayments    0.593590\n",
       "LoanCurrentDaysDelinquent       0.559290\n",
       "LoanNumber                      0.472893\n",
       "DateCreditPulled                0.469683\n",
       "                                  ...   \n",
       "PublicRecordsLast10Years        0.009043\n",
       "InvestmentFromFriendsAmount     0.008719\n",
       "LoanKey                         0.004952\n",
       "IncomeVerifiable                0.004023\n",
       "IsBorrowerHomeowner             0.003534\n",
       "Length: 64, dtype: float64"
      ]
     },
     "execution_count": 70,
     "metadata": {},
     "output_type": "execute_result"
    }
   ],
   "source": [
    "m1 = pd.Series(m1)\n",
    "m1.index = x_train.columns\n",
    "m1.sort_values(ascending=False)"
   ]
  },
  {
   "cell_type": "code",
   "execution_count": 71,
   "id": "0e50024e",
   "metadata": {},
   "outputs": [
    {
     "data": {
      "text/plain": [
       "<AxesSubplot:>"
      ]
     },
     "execution_count": 71,
     "metadata": {},
     "output_type": "execute_result"
    },
    {
     "data": {
      "image/png": "[encoded data removed]",
      "text/plain": [
       "<Figure size 1080x432 with 1 Axes>"
      ]
     },
     "metadata": {
      "needs_background": "light"
     },
     "output_type": "display_data"
    }
   ],
   "source": [
    "m1.sort_values(ascending=False).plot.bar(figsize=(15, 6))"
   ]
  },
  {
   "cell_type": "code",
   "execution_count": null,
   "id": "8f598d8d",
   "metadata": {},
   "outputs": [],
   "source": []
  }
 ],
 "metadata": {
  "kernelspec": {
   "display_name": "Python 3 (ipykernel)",
   "language": "python",
   "name": "python3"
  },
  "language_info": {
   "codemirror_mode": {
    "name": "ipython",
    "version": 3
   },
   "file_extension": ".py",
   "mimetype": "text/x-python",
   "name": "python",
   "nbconvert_exporter": "python",
   "pygments_lexer": "ipython3",
   "version": "3.9.12"
  }
 },
 "nbformat": 4,
 "nbformat_minor": 5
}
